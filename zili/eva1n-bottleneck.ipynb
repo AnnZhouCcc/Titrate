{
 "cells": [
  {
   "cell_type": "code",
   "execution_count": 1,
   "metadata": {},
   "outputs": [],
   "source": [
    "import numpy as np\n",
    "import os\n",
    "import re\n",
    "\n",
    "import multiprocess as mp\n",
    "import warnings\n",
    "warnings.filterwarnings(\"ignore\")\n",
    "\n",
    "import plotly.graph_objs as go\n",
    "\n",
    "from trProcess import *"
   ]
  },
  {
   "cell_type": "code",
   "execution_count": 2,
   "metadata": {},
   "outputs": [],
   "source": [
    "def ProcessBaseline (conf):\n",
    "    exps, expconf, tracenum, indir, name, baseline = conf\n",
    "    apps = expconf.split(\"_\")\n",
    "    p90Fct, maxAppA, maxAppB, jfi = [], [], [], []\n",
    "    for exp in exps:\n",
    "        if not re.search (expconf, exp):\n",
    "            continue\n",
    "        p90FctTrace, maxAppATrace, maxAppBTrace, jfiTrace = [], [], [], []\n",
    "        for traceid in range(tracenum):\n",
    "            trace = \"\"\n",
    "            conf = os.path.join (indir, exp, baseline, trace)\n",
    "                \n",
    "            bws = []\n",
    "            curMaxApp, curAppDur, _, _ = appTraceProcessor (os.path.join (conf, 'app.tr'), startTime=14000 + 13000 * apps[0].count(\"f\"))\n",
    "            curMaxAppFlows = 0\n",
    "            for port, appDelay in curAppDur.items():\n",
    "                if port in range(10000, 20000):\n",
    "                    curMaxAppFlows = max(curMaxAppFlows, appDelay)\n",
    "            maxAppATrace.append(curMaxAppFlows)\n",
    "    \n",
    "            curAvgFct, curP90Fct, fctLastStart, fctFirstEnd, fcts = fctTraceProcessor(os.path.join (conf, 'fct.tr'))\n",
    "            p90FctTrace.append(curP90Fct)\n",
    "            bws = np.array(bws)\n",
    "            jfiTrace.append(pow(np.nansum(bws),2) / (bws.size * np.nansum(np.square(bws))))\n",
    "        p90Fct.append(np.average(p90FctTrace))\n",
    "        maxAppA.append(np.average(maxAppATrace))\n",
    "        jfi.append(np.average(jfiTrace))\n",
    "    print (\"%d\\t%d\\t%s\" % (np.average (maxAppA), np.average (p90Fct), name))\n",
    "    # return go.Scatter(\n",
    "    #     x=[np.average (maxAppA)],\n",
    "    #     y=[np.average (p90Fct)],\n",
    "    #     mode=\"markers+text\",\n",
    "    #     text=name,\n",
    "    #     name=name,\n",
    "    #     textposition=\"bottom center\"\n",
    "    # )"
   ]
  },
  {
   "cell_type": "code",
   "execution_count": 10,
   "metadata": {},
   "outputs": [
    {
     "name": "stdout",
     "output_type": "stream",
     "text": [
      "60\t454\tFQ\n",
      "60\t454\tFIFO\n",
      "60\t454\tConfucius\n",
      "60\t454\tCBQ (1:1)\n"
     ]
    }
   ],
   "source": [
    "tracenum = 1\n",
    "baselinelist = {\n",
    "    \"FQ\": \"FqCoDel_0_500ms1000\", \n",
    "    \"FIFO\": \"PfifoFast_0_1000\",\n",
    "    \"Confucius\": \"Auto_0_1.00_ExpClass4.00\",\n",
    "    \"CBQ (1:1)\": \"Dwrr_9_1.00\",\n",
    "}\n",
    "\n",
    "expconfs = [\n",
    "    \"^46_Video1_Web102.*000_20Mbps_1000Mbps_1000Mbps$\",\n",
    "    # \"^46_Video1_Web[100].*000_1000Mbps_20Mbps_1000Mbps$\",\n",
    "    # \"^46_Video1_Web[100].*000_1000Mbps_1000Mbps_20Mbps$\",\n",
    "]\n",
    "indir = \"ns-3.34/logs/\"\n",
    "exps = os.listdir (indir)\n",
    "for expconf in expconfs:\n",
    "    pool = mp.Pool (1)\n",
    "    pool.map (ProcessBaseline, [(exps, expconf, tracenum, indir, name, baseline) for name, baseline in baselinelist.items()])\n",
    "    pool.close ()\n",
    "    pool.join ()\n",
    "    # data1 = list (map (ProcessBaseline, [(exps, expconf, tracenum, indir, name, baseline) for name, baseline in baselinelist.items()]))\n",
    "\n",
    "    # fig = go.Figure (data=data1)\n",
    "    # fig.update_layout(\n",
    "    #     title=expconf,\n",
    "    #     xaxis_title=\"Video Latency Jitter (ms)\",\n",
    "    #     yaxis_title=\"Page Loading Time (ms)\"\n",
    "    # )\n",
    "    # fig.show()"
   ]
  }
 ],
 "metadata": {
  "interpreter": {
   "hash": "1b36879cc2c03d543a66427ab7e5d5a6750a498ddbbe472d779e93d3586e698d"
  },
  "kernelspec": {
   "display_name": "Python 3.10.0 ('diffqm')",
   "language": "python",
   "name": "python3"
  },
  "language_info": {
   "codemirror_mode": {
    "name": "ipython",
    "version": 3
   },
   "file_extension": ".py",
   "mimetype": "text/x-python",
   "name": "python",
   "nbconvert_exporter": "python",
   "pygments_lexer": "ipython3",
   "version": "3.10.0"
  },
  "orig_nbformat": 4
 },
 "nbformat": 4,
 "nbformat_minor": 2
}
