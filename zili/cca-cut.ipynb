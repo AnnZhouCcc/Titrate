{
 "cells": [
  {
   "cell_type": "code",
   "execution_count": 10,
   "metadata": {},
   "outputs": [],
   "source": [
    "import os\n",
    "import numpy as np\n",
    "import plotly.graph_objs as go\n",
    "from scipy.special import ndtri"
   ]
  },
  {
   "cell_type": "code",
   "execution_count": 11,
   "metadata": {},
   "outputs": [],
   "source": [
    "ccaList = ['0', '5', '6', '9']\n",
    "ccaMap = [\"Gcc\", \"Nada\", \"\", \"Fixed\", \n",
    "  \"Cubic\", \"Bbr\", \"Copa\", \"Yeah\", \n",
    "  \"Illinois\", \"Vegas\", \"Htcp\", \"Bic\", \n",
    "  \"LinuxReno\", \"Scalable\", \"\", \"\"]\n",
    "\n",
    "baseRttStart = 20000\n",
    "baseRttEnd = 30000\n",
    "\n",
    "cutInterval = 200\n",
    "\n",
    "highRttThresVar = ndtri (0.99995) # ndtri () is the inverse cdf of gaussian. this roughly represents out of 4-sigma (1/10k)"
   ]
  },
  {
   "cell_type": "code",
   "execution_count": 12,
   "metadata": {},
   "outputs": [],
   "source": [
    "def ProcessDir (cut, dirname):\n",
    "    jitterDurationTrace = []\n",
    "    for trace in os.listdir (dirname):\n",
    "        if \"cut-%d-\" % cut in trace:\n",
    "            cutTime = int (trace.split ('-')[2].split (\".\")[0])\n",
    "            if cutTime % 10 != 0:\n",
    "                continue\n",
    "            baseRtts = []\n",
    "            jitterStartTimeStamp = 0\n",
    "            baseRtt = 0\n",
    "            jitterDurationTrace.append (0)\n",
    "            with open (os.path.join (dirname, trace, 'bw.tr')) as f:\n",
    "                for line in f.readlines ():\n",
    "                    timeStamp = int (line.split ()[0])\n",
    "                    rtt = int (line.split ()[6])\n",
    "                    if timeStamp >= baseRttStart and timeStamp <= baseRttEnd:\n",
    "                        baseRtts.append (rtt)\n",
    "                        continue\n",
    "                    elif timeStamp > cutInterval * cutTime:\n",
    "                        if not baseRtt:\n",
    "                            baseRtt = np.mean (baseRtts)\n",
    "                            baseRttVar = max (10, np.std (baseRtts))\n",
    "                        if not jitterStartTimeStamp and rtt > baseRtt + highRttThresVar * baseRttVar:\n",
    "                            jitterStartTimeStamp = timeStamp\n",
    "                        elif jitterStartTimeStamp:\n",
    "                            if rtt > baseRtt + highRttThresVar * baseRttVar:\n",
    "                                jitterDurationTrace[-1] = timeStamp - jitterStartTimeStamp\n",
    "                            else:\n",
    "                                break\n",
    "    \n",
    "    durationTraceMean = np.mean (jitterDurationTrace)\n",
    "    durationTraceStd = np.std (jitterDurationTrace)\n",
    "    jitterDurationTrace = [x for x in jitterDurationTrace \n",
    "        if (x >= durationTraceMean - ndtri (0.995) * durationTraceStd and x <= durationTraceMean + ndtri (0.995) * durationTraceStd)]\n",
    "    return jitterDurationTrace"
   ]
  },
  {
   "cell_type": "code",
   "execution_count": 13,
   "metadata": {},
   "outputs": [
    {
     "name": "stdout",
     "output_type": "stream",
     "text": [
      "k\tGcc\tBbr\tCopa\tVegas\n",
      "2\t573\t1108\t0\t40\n",
      "3\t1316\t1528\t60\t160\n",
      "4\t2493\t1928\t160\t280\n",
      "5\t3404\t2768\t232\t368\n",
      "6\t4911\t2196\t288\t2336\n",
      "7\t5800\t2184\t352\t5200\n",
      "8\t6098\t2312\t432\t8432\n",
      "10\t8020\t3200\t1656\t14080\n",
      "12\t8792\t3780\t2020\t8548\n",
      "14\t10356\t3828\t2444\t7168\n",
      "16\t11262\t4532\t2868\t15964\n",
      "20\t13596\t6056\t3772\t21484\n",
      "25\t13884\t8104\t4592\t29024\n",
      "30\t15249\t10560\t5268\t18624\n",
      "35\t19352\t14240\t6572\t19664\n",
      "40\t21068\t23160\t7048\t9702\n"
     ]
    }
   ],
   "source": [
    "# cca-cut exps\n",
    "cutList = [2, 3, 4, 5, 6, 7, 8, 10, 12, 14, 16, 20, 25, 30, 35, 40]\n",
    "queueSize = 250\n",
    "\n",
    "jitterCca = {}\n",
    "for cca in ccaList:\n",
    "    jitterCca[cca] = []\n",
    "    for cut in cutList:\n",
    "        dirname = \"ns-3.34/logs-design-cca/%s_Video1/PfifoFast_0_%d\" % (cca, queueSize)\n",
    "        jitterDurationTrace = ProcessDir (cut, dirname)\n",
    "        jitterCca[cca].append (np.mean (jitterDurationTrace) if jitterDurationTrace else 0)\n",
    "\n",
    "tmpStr = \"k\"\n",
    "for cca in ccaList:\n",
    "    tmpStr += \"\\t%s\" % ccaMap[int (cca, 16)]\n",
    "print (tmpStr)\n",
    "for cut in cutList:\n",
    "    tmpStr = \"%d\" % cut\n",
    "    for cca in ccaList:\n",
    "        tmpStr += \"\\t%.0f\" % jitterCca[cca][cutList.index (cut)]\n",
    "    print (tmpStr)         "
   ]
  },
  {
   "cell_type": "code",
   "execution_count": 14,
   "metadata": {},
   "outputs": [
    {
     "name": "stdout",
     "output_type": "stream",
     "text": [
      "rtProp\tGcc\tBbr\tCopa\tVegas\n",
      "    40\t573\t1108\t0\t40\n",
      "    80\t872\t2380\t0\t137\n",
      "   120\t1108\t3540\t80\t44\n",
      "   160\t1152\t3960\t124\t68\n",
      "   200\t956\t5076\t116\t152\n"
     ]
    }
   ],
   "source": [
    "# cca-cut-rtt exps\n",
    "cut = 2\n",
    "rtPropList = [40, 80, 120, 160, 200]\n",
    "\n",
    "jitterCca = {}\n",
    "for cca in ccaList:\n",
    "    jitterCca[cca] = []\n",
    "    for rtProp in rtPropList:\n",
    "        queueSize = int (rtProp * 6.25)\n",
    "        dirname = \"ns-3.34/logs-design-cca/%s_Video1/PfifoFast_0_%d\" % (cca, queueSize)\n",
    "        jitterDurationTrace = ProcessDir (cut, dirname)\n",
    "        jitterCca[cca].append (np.mean (jitterDurationTrace) if jitterDurationTrace else 0)\n",
    "\n",
    "tmpStr = \"rtProp\"\n",
    "for cca in ccaList:\n",
    "    tmpStr += \"\\t%s\" % ccaMap[int (cca, 16)]\n",
    "print (tmpStr)\n",
    "for rtProp in rtPropList:\n",
    "    tmpStr = \"%6d\" % rtProp\n",
    "    for cca in ccaList:\n",
    "        tmpStr += \"\\t%d\" % jitterCca[cca][rtPropList.index (rtProp)]\n",
    "    print (tmpStr)"
   ]
  }
 ],
 "metadata": {
  "kernelspec": {
   "display_name": "Python 3.10.0 ('diffqm')",
   "language": "python",
   "name": "python3"
  },
  "language_info": {
   "codemirror_mode": {
    "name": "ipython",
    "version": 3
   },
   "file_extension": ".py",
   "mimetype": "text/x-python",
   "name": "python",
   "nbconvert_exporter": "python",
   "pygments_lexer": "ipython3",
   "version": "3.10.0"
  },
  "orig_nbformat": 4,
  "vscode": {
   "interpreter": {
    "hash": "1b36879cc2c03d543a66427ab7e5d5a6750a498ddbbe472d779e93d3586e698d"
   }
  }
 },
 "nbformat": 4,
 "nbformat_minor": 2
}
